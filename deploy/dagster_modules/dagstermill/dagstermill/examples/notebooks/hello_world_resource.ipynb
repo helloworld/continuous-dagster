{
 "cells": [
  {
   "cell_type": "code",
   "execution_count": 1,
   "metadata": {},
   "outputs": [],
   "source": [
    "import dagstermill"
   ]
  },
  {
   "cell_type": "code",
   "execution_count": 2,
   "metadata": {
    "tags": [
     "parameters"
    ]
   },
   "outputs": [],
   "source": [
    "from dagster import ModeDefinition, ResourceDefinition\n",
    "\n",
    "context = dagstermill.get_context(mode_def=ModeDefinition(resources={'list': ResourceDefinition(lambda _: [])}))"
   ]
  },
  {
   "cell_type": "code",
   "execution_count": 3,
   "metadata": {},
   "outputs": [
    {
     "name": "stderr",
     "output_type": "stream",
     "text": [
      "2019-07-02 09:01:08 - dagster - INFO - \n",
      "        orig_message = \"Test logging information\"\n",
      "      log_message_id = \"0fcfa926-177a-41c9-a030-6720a3969c6d\"\n",
      "       log_timestamp = \"2019-07-02T16:01:08.766495\"\n",
      "              run_id = \"b3c38b36-1f59-4654-90e5-1383adb89617\"\n",
      "            pipeline = \"ephemeral_dagstermill_pipeline Pipeline\"\n",
      "execution_epoch_time = 1562083268.7576141\n"
     ]
    }
   ],
   "source": [
    "context.log.info(\"Test logging information\")"
   ]
  },
  {
   "cell_type": "code",
   "execution_count": 4,
   "metadata": {},
   "outputs": [],
   "source": [
    "context.resources.list.append('Hello, notebook!')"
   ]
  }
 ],
 "metadata": {
  "celltoolbar": "Tags",
  "kernelspec": {
   "display_name": "dagster",
   "language": "python",
   "name": "dagster"
  },
  "language_info": {
   "codemirror_mode": {
    "name": "ipython",
    "version": 3
   },
   "file_extension": ".py",
   "mimetype": "text/x-python",
   "name": "python",
   "nbconvert_exporter": "python",
   "pygments_lexer": "ipython3",
   "version": "3.6.8"
  }
 },
 "nbformat": 4,
 "nbformat_minor": 2
}
