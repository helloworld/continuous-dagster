{
 "cells": [
  {
   "cell_type": "code",
   "execution_count": 1,
   "metadata": {},
   "outputs": [],
   "source": [
    "import dagstermill"
   ]
  },
  {
   "cell_type": "code",
   "execution_count": 2,
   "metadata": {
    "tags": [
     "parameters"
    ]
   },
   "outputs": [],
   "source": [
    "context = dagstermill.get_context()"
   ]
  },
  {
   "cell_type": "code",
   "execution_count": 3,
   "metadata": {},
   "outputs": [
    {
     "name": "stderr",
     "output_type": "stream",
     "text": [
      "2019-05-22 14:00:50 - dagster - INFO - \n",
      "        orig_message = \"Hello, there!\"\n",
      "      log_message_id = \"6734f5c1-0517-406f-a785-82d206589acb\"\n",
      "       log_timestamp = \"2019-05-22T21:00:50.531401\"\n",
      "              run_id = \"ab7d0860-3c7b-428f-bbb5-2cf49df0216c\"\n",
      "            pipeline = \"Ephemeral Notebook Pipeline\"\n"
     ]
    }
   ],
   "source": [
    "context.log.info('Hello, there!')"
   ]
  }
 ],
 "metadata": {
  "celltoolbar": "Tags",
  "kernelspec": {
   "display_name": "dagster",
   "language": "python",
   "name": "dagster"
  },
  "language_info": {
   "codemirror_mode": {
    "name": "ipython",
    "version": 3
   },
   "file_extension": ".py",
   "mimetype": "text/x-python",
   "name": "python",
   "nbconvert_exporter": "python",
   "pygments_lexer": "ipython3",
   "version": "3.6.8"
  }
 },
 "nbformat": 4,
 "nbformat_minor": 2
}
